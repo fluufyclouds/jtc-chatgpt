{
 "cells": [
  {
   "cell_type": "markdown",
   "metadata": {},
   "source": [
    "# Data Cleaning"
   ]
  },
  {
   "cell_type": "markdown",
   "metadata": {},
   "source": [
    "## Text Extraction"
   ]
  },
  {
   "cell_type": "code",
   "execution_count": 1,
   "metadata": {},
   "outputs": [
    {
     "name": "stdout",
     "output_type": "stream",
     "text": [
      "Requirement already satisfied: pandas in ./new-env/lib/python3.11/site-packages (2.2.2)\n",
      "Requirement already satisfied: requests in ./new-env/lib/python3.11/site-packages (2.32.3)\n",
      "Requirement already satisfied: beautifulsoup4 in ./new-env/lib/python3.11/site-packages (4.12.3)\n",
      "Requirement already satisfied: openpyxl in ./new-env/lib/python3.11/site-packages (3.1.5)\n",
      "Requirement already satisfied: numpy>=1.23.2 in ./new-env/lib/python3.11/site-packages (from pandas) (2.0.1)\n",
      "Requirement already satisfied: python-dateutil>=2.8.2 in ./new-env/lib/python3.11/site-packages (from pandas) (2.9.0.post0)\n",
      "Requirement already satisfied: pytz>=2020.1 in ./new-env/lib/python3.11/site-packages (from pandas) (2024.1)\n",
      "Requirement already satisfied: tzdata>=2022.7 in ./new-env/lib/python3.11/site-packages (from pandas) (2024.1)\n",
      "Requirement already satisfied: charset-normalizer<4,>=2 in ./new-env/lib/python3.11/site-packages (from requests) (3.3.2)\n",
      "Requirement already satisfied: idna<4,>=2.5 in ./new-env/lib/python3.11/site-packages (from requests) (3.7)\n",
      "Requirement already satisfied: urllib3<3,>=1.21.1 in ./new-env/lib/python3.11/site-packages (from requests) (2.2.2)\n",
      "Requirement already satisfied: certifi>=2017.4.17 in ./new-env/lib/python3.11/site-packages (from requests) (2024.7.4)\n",
      "Requirement already satisfied: soupsieve>1.2 in ./new-env/lib/python3.11/site-packages (from beautifulsoup4) (2.5)\n",
      "Requirement already satisfied: et-xmlfile in ./new-env/lib/python3.11/site-packages (from openpyxl) (1.1.0)\n",
      "Requirement already satisfied: six>=1.5 in ./new-env/lib/python3.11/site-packages (from python-dateutil>=2.8.2->pandas) (1.16.0)\n",
      "Note: you may need to restart the kernel to use updated packages.\n"
     ]
    }
   ],
   "source": [
    "%pip install pandas requests beautifulsoup4 openpyxl"
   ]
  },
  {
   "cell_type": "code",
   "execution_count": 4,
   "metadata": {},
   "outputs": [
    {
     "name": "stdout",
     "output_type": "stream",
     "text": [
      "processing batch from URL 1 to 10\n",
      "processing URL 1/4913: https://www.savills.com.sg/blog/article/216498/singapore-articles/emerging-trends-in-singapore-s-industrial-property-market.aspx#:~:text=With%20a%20slew%20of%20new,%25%20to%203%25%20in%202024.\n",
      "extraction successful for this URL\n",
      "processing URL 2/4913: https://www.colliers.com/en-sg/news/2024-02-14-q4-singapore-industrial-market-update-press#:~:text=Report%20highlights&text=The%20price%20index%20rose%20by,growth%20and%20weakness%20in%20exports.\n",
      "extraction successful for this URL\n",
      "processing URL 3/4913: https://www.businesstimes.com.sg/property/bt-property-week-2024/singapore-industrial-strong-growth-prospects-no-easy-ride\n",
      "extraction successful for this URL\n",
      "processing URL 4/4913: https://www.colliers.com/en-sg/research/2023-q4-singapore-industrial-report-colliers\n",
      "extraction successful for this URL\n",
      "processing URL 5/4913: https://www.jll.com.sg/en/newsroom/moderation-in-industrial-rent-and-price-growth-in-4q23\n",
      "extraction successful for this URL\n",
      "processing URL 6/4913: https://www.edgeprop.sg/property-news/industrial-rents-prices-rose-13th-straight-quarter-4q2023\n",
      "extraction successful for this URL\n",
      "processing URL 7/4913: https://sbr.com.sg/commercial-property/news/industrial-rents-grow-0-3-in-2024-report\n"
     ]
    }
   ],
   "source": [
    "import pandas as pd\n",
    "import requests\n",
    "from bs4 import BeautifulSoup\n",
    "import time\n",
    "import re\n",
    "\n",
    "# load the Excel file with URLs\n",
    "df = pd.read_excel('web_scraping_urls.xlsx')\n",
    "\n",
    "# function to clean text\n",
    "def clean_text(text):\n",
    "    # regex to match non-printable characters\n",
    "    clean_text = re.sub(r'[\\x00-\\x1f\\x7f-\\x9f]', '', text)\n",
    "    return clean_text\n",
    "\n",
    "# function to extract and clean text from a URL\n",
    "def extract_text(url):\n",
    "    try:\n",
    "        response = requests.get(url)\n",
    "        response.raise_for_status()\n",
    "        soup = BeautifulSoup(response.text, 'html.parser')\n",
    "        text = soup.get_text()\n",
    "        # clean the text before returning\n",
    "        return clean_text(text)\n",
    "    except requests.RequestException as e:\n",
    "        return str(e)\n",
    "\n",
    "# define batch size and output file name\n",
    "batch_size = 10\n",
    "output_filename = 'all_extracted_texts.xlsx'\n",
    "\n",
    "# initialize the ExcelWriter to append without overwriting previous data\n",
    "with pd.ExcelWriter(output_filename, engine='openpyxl', mode='a', if_sheet_exists='overlay') as writer:\n",
    "    total_urls = len(df['URLs'])\n",
    "\n",
    "    # process each batch\n",
    "    for start in range(0, total_urls, batch_size):\n",
    "        end = start + batch_size\n",
    "        print(f\"processing batch from URL {start+1} to {min(end, total_urls)}\")\n",
    "        batch_data = {'URL': df['URLs'][start:end], 'Quarter': df['Quarter'][start:end], 'Extracted Text': []}\n",
    "\n",
    "        for index, url in enumerate(df['URLs'][start:end], start=start+1):\n",
    "            print(f\"processing URL {index}/{total_urls}: {url}\")\n",
    "            text = extract_text(url)\n",
    "            batch_data['Extracted Text'].append(text)\n",
    "            time.sleep(2)  # Sleep for 2 seconds between requests\n",
    "            print(\"extraction successful for this URL\")\n",
    "\n",
    "        # convert batch data to DataFrame and append to the Excel file\n",
    "        batch_df = pd.DataFrame(batch_data)\n",
    "        # append batch data to the Excel file\n",
    "        batch_df.to_excel(writer, sheet_name='Extracted Text', index=False, header=not writer.sheets, startrow=writer.sheets['Extracted Text'].max_row if 'Extracted Text' in writer.sheets else 0)\n",
    "\n",
    "        print(f\"batch from URL {start+1} to {min(end, total_urls)} saved.\")\n",
    "\n",
    "print(\"all URLs processed and saved to the same Excel file.\")\n"
   ]
  }
 ],
 "metadata": {
  "kernelspec": {
   "display_name": "new-env",
   "language": "python",
   "name": "python3"
  },
  "language_info": {
   "codemirror_mode": {
    "name": "ipython",
    "version": 3
   },
   "file_extension": ".py",
   "mimetype": "text/x-python",
   "name": "python",
   "nbconvert_exporter": "python",
   "pygments_lexer": "ipython3",
   "version": "3.11.4"
  }
 },
 "nbformat": 4,
 "nbformat_minor": 2
}
