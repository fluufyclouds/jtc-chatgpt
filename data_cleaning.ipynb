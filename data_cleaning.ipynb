{
 "cells": [
  {
   "cell_type": "markdown",
   "metadata": {},
   "source": [
    "# Data Cleaning"
   ]
  },
  {
   "cell_type": "markdown",
   "metadata": {},
   "source": [
    "## Text Extraction"
   ]
  },
  {
   "cell_type": "code",
   "execution_count": 1,
   "metadata": {},
   "outputs": [
    {
     "name": "stdout",
     "output_type": "stream",
     "text": [
      "Requirement already satisfied: pandas in ./new-env/lib/python3.11/site-packages (2.2.2)\n",
      "Requirement already satisfied: requests in ./new-env/lib/python3.11/site-packages (2.32.3)\n",
      "Requirement already satisfied: beautifulsoup4 in ./new-env/lib/python3.11/site-packages (4.12.3)\n",
      "Requirement already satisfied: openpyxl in ./new-env/lib/python3.11/site-packages (3.1.5)\n",
      "Requirement already satisfied: numpy>=1.23.2 in ./new-env/lib/python3.11/site-packages (from pandas) (2.0.1)\n",
      "Requirement already satisfied: python-dateutil>=2.8.2 in ./new-env/lib/python3.11/site-packages (from pandas) (2.9.0.post0)\n",
      "Requirement already satisfied: pytz>=2020.1 in ./new-env/lib/python3.11/site-packages (from pandas) (2024.1)\n",
      "Requirement already satisfied: tzdata>=2022.7 in ./new-env/lib/python3.11/site-packages (from pandas) (2024.1)\n",
      "Requirement already satisfied: charset-normalizer<4,>=2 in ./new-env/lib/python3.11/site-packages (from requests) (3.3.2)\n",
      "Requirement already satisfied: idna<4,>=2.5 in ./new-env/lib/python3.11/site-packages (from requests) (3.7)\n",
      "Requirement already satisfied: urllib3<3,>=1.21.1 in ./new-env/lib/python3.11/site-packages (from requests) (2.2.2)\n",
      "Requirement already satisfied: certifi>=2017.4.17 in ./new-env/lib/python3.11/site-packages (from requests) (2024.7.4)\n",
      "Requirement already satisfied: soupsieve>1.2 in ./new-env/lib/python3.11/site-packages (from beautifulsoup4) (2.5)\n",
      "Requirement already satisfied: et-xmlfile in ./new-env/lib/python3.11/site-packages (from openpyxl) (1.1.0)\n",
      "Requirement already satisfied: six>=1.5 in ./new-env/lib/python3.11/site-packages (from python-dateutil>=2.8.2->pandas) (1.16.0)\n",
      "Note: you may need to restart the kernel to use updated packages.\n"
     ]
    }
   ],
   "source": [
    "%pip install pandas requests beautifulsoup4 openpyxl"
   ]
  },
  {
   "cell_type": "code",
   "execution_count": 44,
   "metadata": {},
   "outputs": [
    {
     "name": "stdout",
     "output_type": "stream",
     "text": [
      "processing batch from URL 2371 to 2380\n",
      "processing URL 2371/4913: https://jordantimes.com/news/local/jordan-singapore-set-increase-economic-cooperation\n",
      "extraction successful for this URL\n",
      "processing URL 2372/4913: https://www.thailand-business-news.com/banking/48660-bank-thailand-cuts-gdp-growth-2-7\n",
      "extraction successful for this URL\n",
      "processing URL 2373/4913: https://www.azelis.com/en/markets/homecare-industrial-cleaning\n",
      "extraction successful for this URL\n",
      "processing URL 2374/4913: https://astech.com.sg/mes-solution/\n",
      "extraction successful for this URL\n",
      "processing URL 2375/4913: https://www.acronis.com/en-sg/company/\n",
      "extraction successful for this URL\n",
      "processing URL 2376/4913: https://www2.deloitte.com/cn/en/pages/audit/solutions/public-offering-services.html\n",
      "extraction successful for this URL\n",
      "processing URL 2377/4913: https://sg.linkedin.com/company/computer-infotech-s-pte-ltd\n"
     ]
    }
   ],
   "source": [
    "import pandas as pd\n",
    "import requests\n",
    "from bs4 import BeautifulSoup\n",
    "import time\n",
    "import re\n",
    "\n",
    "# load the Excel file with URLs\n",
    "df = pd.read_excel('web_scraping_urls.xlsx')\n",
    "\n",
    "# function to clean text\n",
    "def clean_text(text):\n",
    "    # regex to match non-printable characters\n",
    "    clean_text = re.sub(r'[\\x00-\\x1f\\x7f-\\x9f]', '', text)\n",
    "    return clean_text\n",
    "\n",
    "# function to extract and clean text from a URL\n",
    "def extract_text(url):\n",
    "    try:\n",
    "        response = requests.get(url)\n",
    "        response.raise_for_status()\n",
    "        soup = BeautifulSoup(response.text, 'html.parser')\n",
    "        text = soup.get_text()\n",
    "        # clean the text before returning\n",
    "        return clean_text(text)\n",
    "    except requests.RequestException as e:\n",
    "        return str(e)\n",
    "\n",
    "# define batch size and output file name\n",
    "batch_size = 10\n",
    "output_filename = 'all_extracted_texts_2.xlsx'\n",
    "\n",
    "# initialize the ExcelWriter to append without overwriting previous data\n",
    "with pd.ExcelWriter(output_filename, engine='openpyxl', mode='a', if_sheet_exists='overlay') as writer:\n",
    "    total_urls = len(df['URLs'])\n",
    "\n",
    "    # process each batch\n",
    "    for start in range(2370, total_urls, batch_size):\n",
    "        end = start + batch_size\n",
    "        print(f\"processing batch from URL {start+1} to {min(end, total_urls)}\")\n",
    "        batch_data = {'URL': df['URLs'][start:end], 'Quarter': df['Quarter'][start:end], 'Extracted Text': []}\n",
    "\n",
    "        for index, url in enumerate(df['URLs'][start:end], start=start+1):\n",
    "            print(f\"processing URL {index}/{total_urls}: {url}\")\n",
    "            text = extract_text(url)\n",
    "            batch_data['Extracted Text'].append(text)\n",
    "            time.sleep(2)  # sleep for 2 seconds between requests\n",
    "            print(\"extraction successful for this URL\")\n",
    "\n",
    "        # convert batch data to DataFrame and append to the Excel file\n",
    "        batch_df = pd.DataFrame(batch_data)\n",
    "        # append batch data to the Excel file\n",
    "        batch_df.to_excel(writer, sheet_name='Extracted Text', index=False, header=not writer.sheets, startrow=writer.sheets['Extracted Text'].max_row if 'Extracted Text' in writer.sheets else 0)\n",
    "\n",
    "        print(f\"batch from URL {start+1} to {min(end, total_urls)} saved.\")\n",
    "\n",
    "print(\"all URLs processed and saved to the same Excel file.\")\n"
   ]
  },
  {
   "cell_type": "code",
   "execution_count": 43,
   "metadata": {},
   "outputs": [
    {
     "name": "stdout",
     "output_type": "stream",
     "text": [
      "processing URL 2361/4913: https://www.mazakusa.com/\n",
      "extraction successful for this URL\n",
      "processing URL 2362/4913: https://www.cnbc.com/2014/01/13/singapores-real-estate-trusts-fall-out-of-favor.html\n",
      "extraction successful for this URL\n",
      "processing URL 2363/4913: https://www.meinhardt.com.sg/news/global-engineering-consultancy-meinhardt-acquires-singapore-firm-lbw-consultants-llp/\n",
      "extraction successful for this URL\n",
      "processing URL 2364/4913: https://www.smcsing.com.sg/smc-esharing-newsletter/\n",
      "extraction successful for this URL\n",
      "processing URL 2365/4913: https://www.singaporepropertyforsale.info/iskandar-putri/\n",
      "extraction successful for this URL\n",
      "processing URL 2366/4913: https://enpro.com/\n",
      "extraction successful for this URL\n",
      "processing URL 2367/4913: https://www.lesaffre.com/\n",
      "extraction successful for this URL\n",
      "processing URL 2368/4913: https://www.munichre.com/en.html\n",
      "extraction successful for this URL\n",
      "processing URL 2369/4913: https://www.mingtiandi.com/real-estate/research-policy/china-to-establish-national-real-estate-registration-system/\n",
      "extraction successful for this URL\n",
      "batch from URL 2361 to 2369 saved.\n",
      "all URLs processed and saved to the same Excel file.\n"
     ]
    }
   ],
   "source": [
    "# initialize the ExcelWriter to append without overwriting previous data\n",
    "with pd.ExcelWriter(output_filename, engine='openpyxl', mode='a', if_sheet_exists='overlay') as writer:\n",
    "    total_urls = len(df['URLs'])\n",
    "\n",
    "    start = 2360\n",
    "    end = 2369\n",
    "    batch_data = {'URL': df['URLs'][start:end], 'Quarter': df['Quarter'][start:end], 'Extracted Text': []}\n",
    "\n",
    "    for index, url in enumerate(df['URLs'][start:end], start=start+1):\n",
    "        print(f\"processing URL {index}/{total_urls}: {url}\")\n",
    "        text = extract_text(url)\n",
    "        batch_data['Extracted Text'].append(text)\n",
    "        time.sleep(2)  # sleep for 2 seconds between requests\n",
    "        print(\"extraction successful for this URL\")\n",
    "\n",
    "    # convert batch data to DataFrame and append to the Excel file\n",
    "    batch_df = pd.DataFrame(batch_data)\n",
    "    # append batch data to the Excel file\n",
    "    batch_df.to_excel(writer, sheet_name='Extracted Text', index=False, header=not writer.sheets, startrow=writer.sheets['Extracted Text'].max_row if 'Extracted Text' in writer.sheets else 0)\n",
    "\n",
    "    print(f\"batch from URL {start+1} to {min(end, total_urls)} saved.\")\n",
    "\n",
    "print(\"all URLs processed and saved to the same Excel file.\")\n"
   ]
  }
 ],
 "metadata": {
  "kernelspec": {
   "display_name": "new-env",
   "language": "python",
   "name": "python3"
  },
  "language_info": {
   "codemirror_mode": {
    "name": "ipython",
    "version": 3
   },
   "file_extension": ".py",
   "mimetype": "text/x-python",
   "name": "python",
   "nbconvert_exporter": "python",
   "pygments_lexer": "ipython3",
   "version": "3.11.4"
  }
 },
 "nbformat": 4,
 "nbformat_minor": 2
}
