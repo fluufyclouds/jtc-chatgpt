{
 "cells": [
  {
   "cell_type": "markdown",
   "metadata": {},
   "source": [
    "# Data Collection"
   ]
  },
  {
   "cell_type": "markdown",
   "metadata": {},
   "source": [
    "## Web Scraping URLs"
   ]
  },
  {
   "cell_type": "markdown",
   "metadata": {},
   "source": [
    "### Install Required Packages"
   ]
  },
  {
   "cell_type": "code",
   "execution_count": 1,
   "metadata": {},
   "outputs": [
    {
     "name": "stdout",
     "output_type": "stream",
     "text": [
      "Collecting requests\n",
      "  Using cached requests-2.32.3-py3-none-any.whl.metadata (4.6 kB)\n",
      "Collecting beautifulsoup4\n",
      "  Using cached beautifulsoup4-4.12.3-py3-none-any.whl.metadata (3.8 kB)\n",
      "Collecting fake_useragent\n",
      "  Using cached fake_useragent-1.5.1-py3-none-any.whl.metadata (15 kB)\n",
      "Collecting pandas\n",
      "  Using cached pandas-2.2.2-cp311-cp311-macosx_11_0_arm64.whl.metadata (19 kB)\n",
      "Collecting openpyxl\n",
      "  Using cached openpyxl-3.1.5-py2.py3-none-any.whl.metadata (2.5 kB)\n",
      "Requirement already satisfied: numpy in ./new-env/lib/python3.11/site-packages (2.0.1)\n",
      "Collecting charset-normalizer<4,>=2 (from requests)\n",
      "  Using cached charset_normalizer-3.3.2-cp311-cp311-macosx_11_0_arm64.whl.metadata (33 kB)\n",
      "Collecting idna<4,>=2.5 (from requests)\n",
      "  Using cached idna-3.7-py3-none-any.whl.metadata (9.9 kB)\n",
      "Collecting urllib3<3,>=1.21.1 (from requests)\n",
      "  Using cached urllib3-2.2.2-py3-none-any.whl.metadata (6.4 kB)\n",
      "Collecting certifi>=2017.4.17 (from requests)\n",
      "  Using cached certifi-2024.7.4-py3-none-any.whl.metadata (2.2 kB)\n",
      "Collecting soupsieve>1.2 (from beautifulsoup4)\n",
      "  Using cached soupsieve-2.5-py3-none-any.whl.metadata (4.7 kB)\n",
      "Requirement already satisfied: python-dateutil>=2.8.2 in ./new-env/lib/python3.11/site-packages (from pandas) (2.9.0.post0)\n",
      "Collecting pytz>=2020.1 (from pandas)\n",
      "  Using cached pytz-2024.1-py2.py3-none-any.whl.metadata (22 kB)\n",
      "Collecting tzdata>=2022.7 (from pandas)\n",
      "  Using cached tzdata-2024.1-py2.py3-none-any.whl.metadata (1.4 kB)\n",
      "Collecting et-xmlfile (from openpyxl)\n",
      "  Using cached et_xmlfile-1.1.0-py3-none-any.whl.metadata (1.8 kB)\n",
      "Requirement already satisfied: six>=1.5 in ./new-env/lib/python3.11/site-packages (from python-dateutil>=2.8.2->pandas) (1.16.0)\n",
      "Using cached requests-2.32.3-py3-none-any.whl (64 kB)\n",
      "Using cached beautifulsoup4-4.12.3-py3-none-any.whl (147 kB)\n",
      "Using cached fake_useragent-1.5.1-py3-none-any.whl (17 kB)\n",
      "Using cached pandas-2.2.2-cp311-cp311-macosx_11_0_arm64.whl (11.3 MB)\n",
      "Using cached openpyxl-3.1.5-py2.py3-none-any.whl (250 kB)\n",
      "Using cached certifi-2024.7.4-py3-none-any.whl (162 kB)\n",
      "Using cached charset_normalizer-3.3.2-cp311-cp311-macosx_11_0_arm64.whl (118 kB)\n",
      "Using cached idna-3.7-py3-none-any.whl (66 kB)\n",
      "Using cached pytz-2024.1-py2.py3-none-any.whl (505 kB)\n",
      "Using cached soupsieve-2.5-py3-none-any.whl (36 kB)\n",
      "Using cached tzdata-2024.1-py2.py3-none-any.whl (345 kB)\n",
      "Using cached urllib3-2.2.2-py3-none-any.whl (121 kB)\n",
      "Using cached et_xmlfile-1.1.0-py3-none-any.whl (4.7 kB)\n",
      "Installing collected packages: pytz, fake_useragent, urllib3, tzdata, soupsieve, idna, et-xmlfile, charset-normalizer, certifi, requests, pandas, openpyxl, beautifulsoup4\n",
      "Successfully installed beautifulsoup4-4.12.3 certifi-2024.7.4 charset-normalizer-3.3.2 et-xmlfile-1.1.0 fake_useragent-1.5.1 idna-3.7 openpyxl-3.1.5 pandas-2.2.2 pytz-2024.1 requests-2.32.3 soupsieve-2.5 tzdata-2024.1 urllib3-2.2.2\n",
      "Note: you may need to restart the kernel to use updated packages.\n"
     ]
    }
   ],
   "source": [
    "%pip install requests beautifulsoup4 fake_useragent pandas openpyxl numpy\n"
   ]
  },
  {
   "cell_type": "markdown",
   "metadata": {},
   "source": [
    "### Python Code"
   ]
  },
  {
   "cell_type": "markdown",
   "metadata": {},
   "source": [
    "#### Google Search"
   ]
  },
  {
   "cell_type": "code",
   "execution_count": 2,
   "metadata": {},
   "outputs": [],
   "source": [
    "import requests\n",
    "from bs4 import BeautifulSoup\n",
    "from fake_useragent import UserAgent\n",
    "import urllib.parse\n",
    "\n",
    "def google_search(query, num_results, time_filter = None):\n",
    "    # initialize UserAgent\n",
    "    ua = UserAgent()\n",
    "    # generate a random user agent for each request\n",
    "    headers = {'User-Agent': ua.random}\n",
    "\n",
    "    # URL encode the query\n",
    "    query = urllib.parse.quote_plus(query)\n",
    "\n",
    "    # construct the Google search URL\n",
    "    google_url = f\"https://www.google.com/search?q={query}&num={num_results}\"\n",
    "\n",
    "    # append the time filter if specified\n",
    "    if time_filter:\n",
    "        google_url += f\"&tbs={time_filter}\"\n",
    "\n",
    "    # send the request\n",
    "    response = requests.get(google_url, headers=headers)\n",
    "\n",
    "    if response.status_code == 200:\n",
    "        soup = BeautifulSoup(response.text, 'html.parser')\n",
    "        search_results = []\n",
    "\n",
    "        # extract search result URLs\n",
    "        for g in soup.find_all('div', class_='g'):\n",
    "            anchors = g.find_all('a')\n",
    "            if anchors:\n",
    "                link = anchors[0]['href']\n",
    "                search_results.append(link)\n",
    "                \n",
    "        return search_results\n",
    "    else:\n",
    "        print(f\"failed to retrieve search results: status code {response.status_code}\")\n",
    "        return []"
   ]
  },
  {
   "cell_type": "markdown",
   "metadata": {},
   "source": [
    "#### Generate Quarters"
   ]
  },
  {
   "cell_type": "code",
   "execution_count": 3,
   "metadata": {},
   "outputs": [],
   "source": [
    "def generate_quarters(start_year, end_year):\n",
    "    quarters = {}\n",
    "    if end_year == 2024:\n",
    "        quarters[\"2024 Q1\"] = \"cdr:1,cd_min:1/1/2024,cd_max:3/31/2024\"\n",
    "        quarters[\"2024 Q2\"] = \"cdr:1,cd_min:4/1/2024,cd_max:6/30/2024\"\n",
    "        end_year -= 1\n",
    "    for year in range(start_year, end_year + 1):\n",
    "        quarters[f\"{year} Q1\"] = f\"cdr:1,cd_min:1/1/{year},cd_max:3/31/{year}\"\n",
    "        quarters[f\"{year} Q2\"] = f\"cdr:1,cd_min:4/1/{year},cd_max:6/30/{year}\"\n",
    "        quarters[f\"{year} Q3\"] = f\"cdr:1,cd_min:7/1/{year},cd_max:9/30/{year}\"\n",
    "        quarters[f\"{year} Q4\"] = f\"cdr:1,cd_min:10/1/{year},cd_max:12/31/{year}\"\n",
    "    return quarters"
   ]
  },
  {
   "cell_type": "markdown",
   "metadata": {},
   "source": [
    "#### Result"
   ]
  },
  {
   "cell_type": "markdown",
   "metadata": {},
   "source": [
    "##### 2020 - 2024"
   ]
  },
  {
   "cell_type": "code",
   "execution_count": 14,
   "metadata": {},
   "outputs": [
    {
     "name": "stdout",
     "output_type": "stream",
     "text": [
      "failed to retrieve search results: status code 429\n",
      "failed to retrieve search results: status code 429\n",
      "failed to retrieve search results: status code 429\n",
      "failed to retrieve search results: status code 429\n",
      "failed to retrieve search results: status code 429\n",
      "failed to retrieve search results: status code 429\n",
      "failed to retrieve search results: status code 429\n",
      "failed to retrieve search results: status code 429\n",
      "failed to retrieve search results: status code 429\n",
      "failed to retrieve search results: status code 429\n",
      "failed to retrieve search results: status code 429\n",
      "failed to retrieve search results: status code 429\n",
      "failed to retrieve search results: status code 429\n",
      "failed to retrieve search results: status code 429\n",
      "failed to retrieve search results: status code 429\n",
      "failed to retrieve search results: status code 429\n",
      "failed to retrieve search results: status code 429\n",
      "failed to retrieve search results: status code 429\n",
      "Empty DataFrame\n",
      "Columns: [URLs, Quarter]\n",
      "Index: []\n"
     ]
    }
   ],
   "source": [
    "import pandas as pd\n",
    "quarter_dictionary = generate_quarters(2020, 2024)\n",
    "\n",
    "query = \"singapore industrial market outlook news\"\n",
    "# create a base DataFrame\n",
    "headers = [\"URLs\", \"Quarter\"]\n",
    "df = pd.DataFrame(columns=headers)\n",
    "\n",
    "# iterate over queries and quarters\n",
    "for quarter, time_filter in quarter_dictionary.items():\n",
    "    # perform Google search\n",
    "    results = google_search(query, num_results=100, time_filter=time_filter)\n",
    "    # append results to DataFrame\n",
    "    temp_df = pd.DataFrame({\"URLs\": results, \"Quarter\": quarter})\n",
    "    df = pd.concat([df, temp_df], ignore_index=True)\n",
    "\n",
    "# output the DataFrame\n",
    "print(df)"
   ]
  },
  {
   "cell_type": "code",
   "execution_count": 9,
   "metadata": {},
   "outputs": [],
   "source": [
    "# save results to an Excel File\n",
    "df.to_excel(\"web_scraping_urls.xlsx\", index=False)"
   ]
  },
  {
   "cell_type": "markdown",
   "metadata": {},
   "source": [
    "##### 2010 - 2019"
   ]
  },
  {
   "cell_type": "code",
   "execution_count": 12,
   "metadata": {},
   "outputs": [
    {
     "name": "stdout",
     "output_type": "stream",
     "text": [
      "failed to retrieve search results: status code 429\n",
      "failed to retrieve search results: status code 429\n",
      "failed to retrieve search results: status code 429\n",
      "failed to retrieve search results: status code 429\n",
      "failed to retrieve search results: status code 429\n",
      "failed to retrieve search results: status code 429\n",
      "failed to retrieve search results: status code 429\n",
      "failed to retrieve search results: status code 429\n",
      "failed to retrieve search results: status code 429\n",
      "failed to retrieve search results: status code 429\n",
      "failed to retrieve search results: status code 429\n",
      "failed to retrieve search results: status code 429\n",
      "failed to retrieve search results: status code 429\n",
      "failed to retrieve search results: status code 429\n",
      "failed to retrieve search results: status code 429\n",
      "failed to retrieve search results: status code 429\n",
      "failed to retrieve search results: status code 429\n",
      "failed to retrieve search results: status code 429\n",
      "failed to retrieve search results: status code 429\n",
      "failed to retrieve search results: status code 429\n",
      "failed to retrieve search results: status code 429\n",
      "failed to retrieve search results: status code 429\n",
      "failed to retrieve search results: status code 429\n",
      "failed to retrieve search results: status code 429\n",
      "failed to retrieve search results: status code 429\n",
      "failed to retrieve search results: status code 429\n",
      "failed to retrieve search results: status code 429\n",
      "failed to retrieve search results: status code 429\n",
      "failed to retrieve search results: status code 429\n",
      "failed to retrieve search results: status code 429\n",
      "failed to retrieve search results: status code 429\n",
      "failed to retrieve search results: status code 429\n",
      "failed to retrieve search results: status code 429\n",
      "failed to retrieve search results: status code 429\n",
      "failed to retrieve search results: status code 429\n",
      "failed to retrieve search results: status code 429\n",
      "failed to retrieve search results: status code 429\n",
      "failed to retrieve search results: status code 429\n",
      "failed to retrieve search results: status code 429\n",
      "failed to retrieve search results: status code 429\n",
      "Empty DataFrame\n",
      "Columns: [URLs, Quarter]\n",
      "Index: []\n"
     ]
    }
   ],
   "source": [
    "import pandas as pd\n",
    "quarter_dictionary = generate_quarters(2010, 2019)\n",
    "\n",
    "query = \"singapore industrial market outlook news\"\n",
    "# create a base DataFrame\n",
    "headers = [\"URLs\", \"Quarter\"]\n",
    "new_df = pd.DataFrame(columns=headers)\n",
    "\n",
    "# iterate over queries and quarters\n",
    "for quarter, time_filter in quarter_dictionary.items():\n",
    "    # perform Google search\n",
    "    results = google_search(query, num_results=100, time_filter=time_filter)\n",
    "    # append results to DataFrame\n",
    "    temp_df = pd.DataFrame({\"URLs\": results, \"Quarter\": quarter})\n",
    "    new_df = pd.concat([new_df, temp_df], ignore_index=True)\n",
    "\n",
    "# output the DataFrame\n",
    "print(new_df)"
   ]
  },
  {
   "cell_type": "code",
   "execution_count": null,
   "metadata": {},
   "outputs": [],
   "source": [
    "# save results to an existing Excel file\n",
    "file_path = '/Users/loowenwen/Desktop/Visual Code Studio/jtc-chatgpt/web_scraping_urls.xlsx'\n",
    "existing_data = pd.read_excel(file_path)\n",
    "updated_data = pd.concat([df, new_df], ignore_index=True)\n",
    "\n",
    "# write the updated DataFrame back to the same Excel file\n",
    "with pd.ExcelWriter(file_path, engine='openpyxl', mode='a', if_sheet_exists='replace') as writer:\n",
    "    updated_data.to_excel(writer, index=False)"
   ]
  }
 ],
 "metadata": {
  "kernelspec": {
   "display_name": "Python 3",
   "language": "python",
   "name": "python3"
  },
  "language_info": {
   "codemirror_mode": {
    "name": "ipython",
    "version": 3
   },
   "file_extension": ".py",
   "mimetype": "text/x-python",
   "name": "python",
   "nbconvert_exporter": "python",
   "pygments_lexer": "ipython3",
   "version": "3.11.4"
  }
 },
 "nbformat": 4,
 "nbformat_minor": 2
}
