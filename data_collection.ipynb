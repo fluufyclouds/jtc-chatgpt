{
 "cells": [
  {
   "cell_type": "markdown",
   "metadata": {},
   "source": [
    "# Data Collection"
   ]
  },
  {
   "cell_type": "markdown",
   "metadata": {},
   "source": [
    "## Web Scraping URLs"
   ]
  },
  {
   "cell_type": "markdown",
   "metadata": {},
   "source": [
    "### Install Required Packages"
   ]
  },
  {
   "cell_type": "code",
   "execution_count": 33,
   "metadata": {},
   "outputs": [
    {
     "name": "stdout",
     "output_type": "stream",
     "text": [
      "Requirement already satisfied: requests in ./venv/lib/python3.11/site-packages (2.32.3)\n",
      "Requirement already satisfied: beautifulsoup4 in ./venv/lib/python3.11/site-packages (4.12.3)\n",
      "Requirement already satisfied: fake_useragent in ./venv/lib/python3.11/site-packages (1.5.1)\n",
      "Requirement already satisfied: pandas in ./venv/lib/python3.11/site-packages (2.2.2)\n",
      "Requirement already satisfied: openpyxl in ./venv/lib/python3.11/site-packages (3.1.5)\n",
      "Requirement already satisfied: charset-normalizer<4,>=2 in ./venv/lib/python3.11/site-packages (from requests) (3.3.2)\n",
      "Requirement already satisfied: idna<4,>=2.5 in ./venv/lib/python3.11/site-packages (from requests) (3.7)\n",
      "Requirement already satisfied: urllib3<3,>=1.21.1 in ./venv/lib/python3.11/site-packages (from requests) (2.2.2)\n",
      "Requirement already satisfied: certifi>=2017.4.17 in ./venv/lib/python3.11/site-packages (from requests) (2024.7.4)\n",
      "Requirement already satisfied: soupsieve>1.2 in ./venv/lib/python3.11/site-packages (from beautifulsoup4) (2.5)\n",
      "Requirement already satisfied: numpy>=1.23.2 in ./venv/lib/python3.11/site-packages (from pandas) (2.0.0)\n",
      "Requirement already satisfied: python-dateutil>=2.8.2 in ./venv/lib/python3.11/site-packages (from pandas) (2.9.0.post0)\n",
      "Requirement already satisfied: pytz>=2020.1 in ./venv/lib/python3.11/site-packages (from pandas) (2024.1)\n",
      "Requirement already satisfied: tzdata>=2022.7 in ./venv/lib/python3.11/site-packages (from pandas) (2024.1)\n",
      "Requirement already satisfied: et-xmlfile in ./venv/lib/python3.11/site-packages (from openpyxl) (1.1.0)\n",
      "Requirement already satisfied: six>=1.5 in ./venv/lib/python3.11/site-packages (from python-dateutil>=2.8.2->pandas) (1.16.0)\n"
     ]
    }
   ],
   "source": [
    "!pip install requests beautifulsoup4 fake_useragent pandas openpyxl\n"
   ]
  },
  {
   "cell_type": "markdown",
   "metadata": {},
   "source": [
    "### Python Code"
   ]
  },
  {
   "cell_type": "markdown",
   "metadata": {},
   "source": [
    "#### Google Search"
   ]
  },
  {
   "cell_type": "code",
   "execution_count": 35,
   "metadata": {},
   "outputs": [],
   "source": [
    "import requests\n",
    "from bs4 import BeautifulSoup\n",
    "from fake_useragent import UserAgent\n",
    "import urllib.parse\n",
    "\n",
    "def google_search(query, num_results, time_filter = None):\n",
    "    # initialize UserAgent\n",
    "    ua = UserAgent()\n",
    "    # generate a random user agent for each request\n",
    "    headers = {'User-Agent': ua.random}\n",
    "\n",
    "    # URL encode the query\n",
    "    query = urllib.parse.quote_plus(query)\n",
    "\n",
    "    # construct the Google search URL\n",
    "    google_url = f\"https://www.google.com/search?q={query}&num={num_results}\"\n",
    "\n",
    "    # append the time filter if specified\n",
    "    if time_filter:\n",
    "        google_url += f\"&tbs={time_filter}\"\n",
    "\n",
    "    # send the request\n",
    "    response = requests.get(google_url, headers=headers)\n",
    "\n",
    "    if response.status_code == 200:\n",
    "        soup = BeautifulSoup(response.text, 'html.parser')\n",
    "        search_results = []\n",
    "\n",
    "        # extract search result URLs\n",
    "        for g in soup.find_all('div', class_='g'):\n",
    "            anchors = g.find_all('a')\n",
    "            if anchors:\n",
    "                link = anchors[0]['href']\n",
    "                search_results.append(link)\n",
    "                \n",
    "        return search_results\n",
    "    else:\n",
    "        print(f\"failed to retrieve search results: status code {response.status_code}\")\n",
    "        return []"
   ]
  },
  {
   "cell_type": "markdown",
   "metadata": {},
   "source": [
    "#### Generate Quarters"
   ]
  },
  {
   "cell_type": "code",
   "execution_count": 36,
   "metadata": {},
   "outputs": [],
   "source": [
    "def generate_quarters(start_year, end_year):\n",
    "    quarters = {}\n",
    "    if end_year == 2024:\n",
    "        quarters[\"2024 Q1\"] = \"cdr:1,cd_min:1/1/2024,cd_max:3/31/2024\"\n",
    "        quarters[\"2024 Q2\"] = \"cdr:1,cd_min:4/1/2024,cd_max:6/30/2024\"\n",
    "        end_year -= 1\n",
    "    for year in range(start_year, end_year + 1):\n",
    "        quarters[f\"{year} Q1\"] = f\"cdr:1,cd_min:1/1/{year},cd_max:3/31/{year}\"\n",
    "        quarters[f\"{year} Q2\"] = f\"cdr:1,cd_min:4/1/{year},cd_max:6/30/{year}\"\n",
    "        quarters[f\"{year} Q3\"] = f\"cdr:1,cd_min:7/1/{year},cd_max:9/30/{year}\"\n",
    "        quarters[f\"{year} Q4\"] = f\"cdr:1,cd_min:10/1/{year},cd_max:12/31/{year}\"\n",
    "    return quarters"
   ]
  },
  {
   "cell_type": "markdown",
   "metadata": {},
   "source": [
    "#### Result"
   ]
  },
  {
   "cell_type": "markdown",
   "metadata": {},
   "source": [
    "##### 2020 - 2024"
   ]
  },
  {
   "cell_type": "code",
   "execution_count": 45,
   "metadata": {},
   "outputs": [
    {
     "name": "stdout",
     "output_type": "stream",
     "text": [
      "                                                   URLs  Quarter\n",
      "0     https://www.colliers.com/en-sg/news/2024-02-14...  2024 Q1\n",
      "1     https://www.colliers.com/en-sg/news/2024-02-14...  2024 Q1\n",
      "2     https://www.colliers.com/en-sg/research/2023-q...  2024 Q1\n",
      "3     https://www.businesstimes.com.sg/property/bt-p...  2024 Q1\n",
      "4     https://www.cbre.com.sg/insights/reports/singa...  2024 Q1\n",
      "...                                                 ...      ...\n",
      "1391  https://www.99.co/singapore/insider/august-res...  2023 Q3\n",
      "1392  https://altoo.io/what-to-know-about-the-singap...  2023 Q3\n",
      "1393  https://www.thesingaporeaninvestor.sg/2023/07/...  2023 Q3\n",
      "1394  https://content.knightfrank.com/research/529/d...  2023 Q4\n",
      "1395  https://content.knightfrank.com/research/529/d...  2023 Q4\n",
      "\n",
      "[1396 rows x 2 columns]\n"
     ]
    }
   ],
   "source": [
    "import pandas as pd\n",
    "quarter_dictionary = generate_quarters(2020, 2024)\n",
    "\n",
    "query = \"singapore industrial market outlook\"\n",
    "# create a base DataFrame\n",
    "headers = [\"URLs\", \"Quarter\"]\n",
    "df = pd.DataFrame(columns=headers)\n",
    "\n",
    "# iterate over queries and quarters\n",
    "for quarter, time_filter in quarter_dictionary.items():\n",
    "    # perform Google search\n",
    "    results = google_search(query, num_results=100, time_filter=time_filter)\n",
    "    # append results to DataFrame\n",
    "    temp_df = pd.DataFrame({\"URLs\": results, \"Quarter\": quarter})\n",
    "    df = pd.concat([df, temp_df], ignore_index=True)\n",
    "\n",
    "# output the DataFrame\n",
    "print(df)"
   ]
  },
  {
   "cell_type": "code",
   "execution_count": 47,
   "metadata": {},
   "outputs": [],
   "source": [
    "# save results to an Excel File\n",
    "df.to_excel(\"web_scraping_urls.xlsx\", index=False)"
   ]
  },
  {
   "cell_type": "markdown",
   "metadata": {},
   "source": [
    "##### 2010 - 2019"
   ]
  },
  {
   "cell_type": "code",
   "execution_count": 48,
   "metadata": {},
   "outputs": [
    {
     "name": "stdout",
     "output_type": "stream",
     "text": [
      "failed to retrieve search results: status code 429\n",
      "failed to retrieve search results: status code 429\n",
      "failed to retrieve search results: status code 429\n",
      "failed to retrieve search results: status code 429\n",
      "failed to retrieve search results: status code 429\n",
      "failed to retrieve search results: status code 429\n",
      "failed to retrieve search results: status code 429\n",
      "failed to retrieve search results: status code 429\n",
      "failed to retrieve search results: status code 429\n",
      "failed to retrieve search results: status code 429\n",
      "failed to retrieve search results: status code 429\n",
      "failed to retrieve search results: status code 429\n",
      "                                                   URLs  Quarter\n",
      "0     https://centreforaviation.com/analysis/reports...  2010 Q1\n",
      "1     https://www.mom.gov.sg/-/media/mom/documents/p...  2010 Q1\n",
      "2     https://nap.nationalacademies.org/read/12920/c...  2010 Q1\n",
      "3     https://www.econstor.eu/bitstream/10419/174708...  2010 Q1\n",
      "4     https://www.stb.gov.sg/content/dam/stb/documen...  2010 Q1\n",
      "...                                                 ...      ...\n",
      "1483  https://www.robertwalters.com.sg/insights/care...  2016 Q3\n",
      "1484                            https://www.jdapro.com/  2016 Q3\n",
      "1485  https://www.temasek.com.sg/content/dam/temasek...  2016 Q3\n",
      "1486  https://www.us.jll.com/en/locations/southeast/...  2016 Q3\n",
      "1487  https://unctad.org/system/files/official-docum...  2016 Q3\n",
      "\n",
      "[1488 rows x 2 columns]\n"
     ]
    }
   ],
   "source": [
    "import pandas as pd\n",
    "quarter_dictionary = generate_quarters(2010, 2019)\n",
    "\n",
    "query = \"singapore industrial market outlook\"\n",
    "# create a base DataFrame\n",
    "headers = [\"URLs\", \"Quarter\"]\n",
    "df = pd.DataFrame(columns=headers)\n",
    "\n",
    "# iterate over queries and quarters\n",
    "for quarter, time_filter in quarter_dictionary.items():\n",
    "    # perform Google search\n",
    "    results = google_search(query, num_results=100, time_filter=time_filter)\n",
    "    # append results to DataFrame\n",
    "    temp_df = pd.DataFrame({\"URLs\": results, \"Quarter\": quarter})\n",
    "    df = pd.concat([df, temp_df], ignore_index=True)\n",
    "\n",
    "# output the DataFrame\n",
    "print(df)"
   ]
  }
 ],
 "metadata": {
  "kernelspec": {
   "display_name": "Python 3",
   "language": "python",
   "name": "python3"
  },
  "language_info": {
   "codemirror_mode": {
    "name": "ipython",
    "version": 3
   },
   "file_extension": ".py",
   "mimetype": "text/x-python",
   "name": "python",
   "nbconvert_exporter": "python",
   "pygments_lexer": "ipython3",
   "version": "3.11.4"
  }
 },
 "nbformat": 4,
 "nbformat_minor": 2
}
